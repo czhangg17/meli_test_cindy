{
 "cells": [
  {
   "cell_type": "markdown",
   "metadata": {},
   "source": [
    "# Extraction  of the data and images saved in the files\n",
    "\n",
    "This notebooks performs the extraction of the tables about the items selled and the images from the items in thumbnail format"
   ]
  },
  {
   "cell_type": "code",
   "execution_count": 1,
   "metadata": {},
   "outputs": [
    {
     "name": "stderr",
     "output_type": "stream",
     "text": [
      "/Users/cindyzhang/Library/Python/3.9/lib/python/site-packages/urllib3/__init__.py:35: NotOpenSSLWarning: urllib3 v2 only supports OpenSSL 1.1.1+, currently the 'ssl' module is compiled with 'LibreSSL 2.8.3'. See: https://github.com/urllib3/urllib3/issues/3020\n",
      "  warnings.warn(\n"
     ]
    }
   ],
   "source": [
    "# libraries\n",
    "import pandas as pd\n",
    "import json\n",
    "import requests\n",
    "import os\n",
    "os.getcwd()\n",
    "os.chdir('/Users/cindyzhang/Documents/Meli test')"
   ]
  },
  {
   "cell_type": "code",
   "execution_count": 2,
   "metadata": {},
   "outputs": [],
   "source": [
    "import sys\n",
    "sys.path.append('src')  # Change path\n",
    "\n",
    "from src import data_extraction, images_extraction\n",
    "from data_extraction import *\n",
    "from images_extraction import *"
   ]
  },
  {
   "cell_type": "markdown",
   "metadata": {},
   "source": [
    "### descarga de la data por la api "
   ]
  },
  {
   "cell_type": "code",
   "execution_count": 3,
   "metadata": {},
   "outputs": [],
   "source": [
    "df_extract=data_extraction(country_name='Colombia')\n",
    "site_id=df_extract.return_site_id(country='Colombia')\n",
    "df_cat=df_extract.return_cat_id(country_id=site_id)"
   ]
  },
  {
   "cell_type": "code",
   "execution_count": 4,
   "metadata": {},
   "outputs": [],
   "source": [
    "# escogemos entonces las categias de interes\n",
    "cat_vec=['MCO180800','MCO1276']\n",
    "# aqui ya se estan guardadndo los csv\n",
    "df_1=df_extract.get_save_data(country_name='Colombia',category_id='MCO180800')\n",
    "df_2=df_extract.get_save_data(country_name='Colombia',category_id='MCO1276')\n",
    "#df_3=df_extract.get_save_data(country_name='Colombia',category_id='MCO1953')\n"
   ]
  },
  {
   "cell_type": "markdown",
   "metadata": {},
   "source": [
    "### Descarga de imagenes\n",
    "ahora vamos a descargar las imagenes de las categorias de interes\n",
    "\n",
    "Fueron escogidas solamente 2 categorias por la cantidad de carga de imagenes ,además de la comparación que se hará bajo la hipitesis sobre los articulos medicos y "
   ]
  },
  {
   "cell_type": "code",
   "execution_count": 5,
   "metadata": {},
   "outputs": [],
   "source": [
    "df_items1=images_extraction(category_id='MCO180800')\n",
    "list_urls,list_ids=df_items1.get_urls_names(category_id='MCO180800')\n",
    "\n",
    "for url,id in zip(list_urls,list_ids):\n",
    "    df_items1.open_save_img(url,id)"
   ]
  },
  {
   "cell_type": "code",
   "execution_count": 6,
   "metadata": {},
   "outputs": [],
   "source": [
    "df_items2=images_extraction(category_id='MCO1276')\n",
    "list_urls,list_ids=df_items1.get_urls_names(category_id='MCO1276')\n",
    "\n",
    "for url,id in zip(list_urls,list_ids):\n",
    "    df_items2.open_save_img(url,id)"
   ]
  }
 ],
 "metadata": {
  "kernelspec": {
   "display_name": "Python 3",
   "language": "python",
   "name": "python3"
  },
  "language_info": {
   "codemirror_mode": {
    "name": "ipython",
    "version": 3
   },
   "file_extension": ".py",
   "mimetype": "text/x-python",
   "name": "python",
   "nbconvert_exporter": "python",
   "pygments_lexer": "ipython3",
   "version": "3.9.6"
  }
 },
 "nbformat": 4,
 "nbformat_minor": 2
}
