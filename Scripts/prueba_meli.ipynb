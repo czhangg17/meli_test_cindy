{
 "cells": [
  {
   "cell_type": "markdown",
   "metadata": {},
   "source": [
    "# MELI challenge for DS rol"
   ]
  },
  {
   "cell_type": "markdown",
   "metadata": {},
   "source": [
    "# Caso de negocio escogido:\n",
    "\n",
    "Dentro del marketplace existen productos similares o idénticos entre sí (son\n",
    "productos vendidos por distintos sellers, en la api puedes obtener y descargar los\n",
    "títulos e incluso las imágenes!). ¿Cómo buscar dichos ítems para agruparlos y\n",
    "volverlos comparables entre sí? Esto permitiría mejorar la experiencia ante muchas\n",
    "opciones similares."
   ]
  },
  {
   "cell_type": "markdown",
   "metadata": {},
   "source": [
    "### Hipotesis:\n",
    "\n",
    "Las categorias de Salud y Equipamento médico con Deportes y Fitness puede estar mal categorizadas, pueden estar vendiendo los objetos cruzados y dando recomendaciones erroneas al usuario"
   ]
  },
  {
   "cell_type": "markdown",
   "metadata": {},
   "source": [
    "# Analisis descriptivo y exploratorio de los datos"
   ]
  }
 ],
 "metadata": {
  "kernelspec": {
   "display_name": "Python 3",
   "language": "python",
   "name": "python3"
  },
  "language_info": {
   "codemirror_mode": {
    "name": "ipython",
    "version": 3
   },
   "file_extension": ".py",
   "mimetype": "text/x-python",
   "name": "python",
   "nbconvert_exporter": "python",
   "pygments_lexer": "ipython3",
   "version": "3.9.6"
  }
 },
 "nbformat": 4,
 "nbformat_minor": 2
}
